{
 "cells": [
  {
   "cell_type": "markdown",
   "id": "c976e027",
   "metadata": {},
   "source": [
    "# Assignment-7"
   ]
  },
  {
   "cell_type": "markdown",
   "id": "f75746b4",
   "metadata": {},
   "source": [
    "### Que1: Create two int type variables, apply addition, subtraction, division and multiplications\n",
    "and store the results in variables. Then print the data in the following format by calling the\n",
    "variables:\n",
    "First variable is __ & second variable is __.\n",
    "1. Addition: __ + __ = __\n",
    "2. Subtraction: __ - __ = __\n",
    "3. Multiplication: __ * __ = __\n",
    "4. Division: __ / __ = __"
   ]
  },
  {
   "cell_type": "code",
   "execution_count": 11,
   "id": "b9736fc3",
   "metadata": {},
   "outputs": [
    {
     "name": "stdout",
     "output_type": "stream",
     "text": [
      "First variable is 10 \n",
      "second variable is 5\n",
      "Addition: 15\n",
      "Subtraction: 5\n",
      "Multiplication: 50\n",
      "Division: 2.0\n"
     ]
    }
   ],
   "source": [
    "# Create two integer variables\n",
    "first_variable = 10\n",
    "second_variable = 5\n",
    "\n",
    "# Perform arithmetic operations\n",
    "addition_result = first_variable + second_variable\n",
    "subtraction_result = first_variable - second_variable\n",
    "multiplication_result = first_variable * second_variable\n",
    "division_result = first_variable / second_variable\n",
    "\n",
    "# Print the results in the specified format\n",
    "print(f\"First variable is {first_variable} \\nsecond variable is {second_variable}\")\n",
    "print(f\"Addition: {addition_result}\")\n",
    "print(f\"Subtraction: {subtraction_result}\")\n",
    "print(f\"Multiplication: {multiplication_result}\")\n",
    "print(f\"Division: {division_result}\")\n"
   ]
  },
  {
   "cell_type": "markdown",
   "id": "0077fd3d",
   "metadata": {},
   "source": [
    "### Que2: What is the difference between the following operators:\n",
    "(i) ‘/’ & ‘//’\n",
    "\n",
    "(ii) ‘**’ & ‘^’"
   ]
  },
  {
   "cell_type": "markdown",
   "id": "cae29a96",
   "metadata": {},
   "source": [
    "Ans : \n",
    "#### i) Difference between '/' and '//':\n",
    "\n",
    "'/' (Forward Slash): This is the division operator in Python. It performs regular division and returns a floating-point (decimal) result, even if both operands are integers.\n",
    "\n",
    "'//' (Double Forward Slash): This is the floor division operator in Python. It performs integer division and returns the floor (rounded down) of the division result. The result is always an integer, regardless of the data types of the operands.\n",
    "\n",
    "Example:"
   ]
  },
  {
   "cell_type": "code",
   "execution_count": 6,
   "id": "8965b32c",
   "metadata": {},
   "outputs": [
    {
     "name": "stdout",
     "output_type": "stream",
     "text": [
      "2.3333333333333335\n",
      "2\n"
     ]
    }
   ],
   "source": [
    "x = 7\n",
    "y = 3\n",
    "\n",
    "result1 = x / y  # Result is 2.333333...\n",
    "result2 = x // y  # Result is 2\n",
    "print(result1)\n",
    "print(result2)\n"
   ]
  },
  {
   "cell_type": "markdown",
   "id": "3a71f5f6",
   "metadata": {},
   "source": [
    "#### (ii) Difference between '**' and '^':\n",
    "\n",
    "'**' (Double Asterisk): This is the exponentiation operator in Python. It raises the left operand to the power of the right operand. For example, x ** y means x to the power of y. It is used for exponentiation and results in a number.\n",
    "\n",
    "'^' (Caret): In Python, the caret operator is not used for exponentiation. It is a bitwise XOR operator used for performing bitwise XOR (exclusive OR) between corresponding bits of two integers.\n",
    "\n",
    "Example:"
   ]
  },
  {
   "cell_type": "code",
   "execution_count": 7,
   "id": "d25f4a32",
   "metadata": {},
   "outputs": [
    {
     "name": "stdout",
     "output_type": "stream",
     "text": [
      "8\n",
      "1\n"
     ]
    }
   ],
   "source": [
    "x = 2\n",
    "y = 3\n",
    "\n",
    "result1 = x ** y  # Result is 8 (2^3)\n",
    "result2 = x ^ y   # Result is 1 (bitwise XOR of 010 and 011)\n",
    "print(result1)\n",
    "print(result2)"
   ]
  },
  {
   "cell_type": "markdown",
   "id": "25df84bd",
   "metadata": {},
   "source": [
    "### Que3: List the logical operators."
   ]
  },
  {
   "cell_type": "markdown",
   "id": "c3ea662c",
   "metadata": {},
   "source": [
    "#### 1. AND (and) Operator: \n",
    "The and operator returns True if both of the operands are True. If any of the operands is False, the result is False.\n",
    "\n",
    "True and True   : True\n",
    "\n",
    "True and False  : False\n",
    "\n",
    "False and True  : False\n",
    "\n",
    "False and False : False\n",
    "\n",
    "#### 2. OR (or) Operator: \n",
    "The or operator returns True if at least one of the operands is True. It returns False if both operands are False.\n",
    "\n",
    "True and True   : True\n",
    "\n",
    "True and False  : True\n",
    "\n",
    "False and True  : True\n",
    "\n",
    "False and False : False\n",
    "\n",
    "#### 3. NOT (not) Operator: \n",
    "The not operator is a unary operator that negates the Boolean value of its operand. If the operand is True, not makes it False, and if the operand is False, not makes it True.\n",
    "\n",
    "not True  : False\n",
    "\n",
    "not False : True"
   ]
  },
  {
   "cell_type": "markdown",
   "id": "13ef1d22",
   "metadata": {},
   "source": [
    "### Que4: Explain right shift operator and left shift operator with examples."
   ]
  },
  {
   "cell_type": "markdown",
   "id": "f1daf833",
   "metadata": {},
   "source": [
    "Ans :\n",
    "#### Right Shift Operator (>>):\n",
    "\n",
    "1. The right shift operator shifts the bits of an integer to the right by a specified number of positions.\n",
    "2. It effectively divides the integer by 2 raised to the power of the specified number.\n",
    "3. It fills the leftmost positions with zeros, preserving the sign bit (the leftmost bit) for signed integers.\n",
    "\n",
    "Example:"
   ]
  },
  {
   "cell_type": "code",
   "execution_count": 8,
   "id": "a2fbe1f8",
   "metadata": {},
   "outputs": [
    {
     "name": "stdout",
     "output_type": "stream",
     "text": [
      "4\n"
     ]
    }
   ],
   "source": [
    "x = 16  # Binary: 0b10000\n",
    "\n",
    "# Right shift by 2 positions\n",
    "result = x >> 2  # Binary: 0b0001, Decimal: 1\n",
    "print(result)\n"
   ]
  },
  {
   "cell_type": "markdown",
   "id": "6243be94",
   "metadata": {},
   "source": [
    "#### Left Shift Operator (<<):\n",
    "\n",
    "1. The left shift operator shifts the bits of an integer to the left by a specified number of positions.\n",
    "2. It effectively multiplies the integer by 2 raised to the power of the specified number.\n",
    "3. It fills the rightmost positions with zeros.\n",
    "\n",
    "Example :"
   ]
  },
  {
   "cell_type": "code",
   "execution_count": 9,
   "id": "bbfd7014",
   "metadata": {},
   "outputs": [
    {
     "name": "stdout",
     "output_type": "stream",
     "text": [
      "12\n"
     ]
    }
   ],
   "source": [
    "y = 3  # Binary: 0b11\n",
    "\n",
    "# Left shift by 2 positions\n",
    "result = y << 2  # Binary: 0b1100, Decimal: 12\n",
    "print(result)"
   ]
  },
  {
   "cell_type": "markdown",
   "id": "1deadc86",
   "metadata": {},
   "source": [
    "### Que5: Create a list containing int type data of length 15. Then write a code to check if 10 is present in the list or not."
   ]
  },
  {
   "cell_type": "code",
   "execution_count": 10,
   "id": "467fc221",
   "metadata": {},
   "outputs": [
    {
     "name": "stdout",
     "output_type": "stream",
     "text": [
      "10 is present in the list.\n"
     ]
    }
   ],
   "source": [
    "# Create a list of integers\n",
    "my_list = [2, 4, 6, 8, 10, 12, 14, 16, 18, 20, 22, 24, 26, 28, 30]\n",
    "\n",
    "# Number to check\n",
    "number_check = 10\n",
    "\n",
    "# Check if the number is in the list\n",
    "if number_check in my_list:\n",
    "    print(f\"{number_check} is present in the list.\")\n",
    "else:\n",
    "    print(f\"{number_check} is not present in the list.\")\n"
   ]
  }
 ],
 "metadata": {
  "kernelspec": {
   "display_name": "Python 3 (ipykernel)",
   "language": "python",
   "name": "python3"
  },
  "language_info": {
   "codemirror_mode": {
    "name": "ipython",
    "version": 3
   },
   "file_extension": ".py",
   "mimetype": "text/x-python",
   "name": "python",
   "nbconvert_exporter": "python",
   "pygments_lexer": "ipython3",
   "version": "3.11.4"
  }
 },
 "nbformat": 4,
 "nbformat_minor": 5
}
